{
 "cells": [
  {
   "cell_type": "markdown",
   "id": "587fa9f3",
   "metadata": {},
   "source": [
    "# Chapter 1: Handling and Manipulating Date, Time and Time Series Data"
   ]
  },
  {
   "cell_type": "code",
   "execution_count": 1,
   "id": "1c05ad96",
   "metadata": {},
   "outputs": [],
   "source": [
    "from datetime import datetime"
   ]
  },
  {
   "cell_type": "code",
   "execution_count": 3,
   "id": "7c340272",
   "metadata": {},
   "outputs": [
    {
     "name": "stdout",
     "output_type": "stream",
     "text": [
      "2025-09-29 03:39:58.025997\n"
     ]
    }
   ],
   "source": [
    "dt1 = datetime.now()\n",
    "print(dt1)"
   ]
  },
  {
   "cell_type": "code",
   "execution_count": 4,
   "id": "92fa6437",
   "metadata": {},
   "outputs": [
    {
     "name": "stdout",
     "output_type": "stream",
     "text": [
      "Year: 2025\n",
      "Month: 9\n",
      "Day: 29\n",
      "Hours: 3\n",
      "Minutes: 39\n",
      "Seconds: 58\n",
      "Microseconds: 25997\n",
      "Timezone: None\n"
     ]
    }
   ],
   "source": [
    "print(f'Year: {dt1.year}')\n",
    "print(f'Month: {dt1.month}')\n",
    "print(f'Day: {dt1.day}')\n",
    "print(f'Hours: {dt1.hour}')\n",
    "print(f'Minutes: {dt1.minute}')\n",
    "print(f'Seconds: {dt1.second}')\n",
    "print(f'Microseconds: {dt1.microsecond}')\n",
    "print(f'Timezone: {dt1.tzinfo}')"
   ]
  },
  {
   "cell_type": "code",
   "execution_count": null,
   "id": "e3bcb1f0",
   "metadata": {},
   "outputs": [],
   "source": []
  }
 ],
 "metadata": {
  "kernelspec": {
   "display_name": ".venv (3.11.13)",
   "language": "python",
   "name": "python3"
  },
  "language_info": {
   "codemirror_mode": {
    "name": "ipython",
    "version": 3
   },
   "file_extension": ".py",
   "mimetype": "text/x-python",
   "name": "python",
   "nbconvert_exporter": "python",
   "pygments_lexer": "ipython3",
   "version": "3.11.13"
  }
 },
 "nbformat": 4,
 "nbformat_minor": 5
}
